{
 "cells": [
  {
   "cell_type": "code",
   "execution_count": 12,
   "id": "aa63c914",
   "metadata": {},
   "outputs": [],
   "source": [
    "import torch\n",
    "\n",
    "tens = torch.arange(5, dtype=torch.long)  # Example tensor\n",
    "\n",
    "embed = torch.nn.Embedding(6, 6)  # Example embedding layer\n",
    "output = embed(tens)  # Apply embedding"
   ]
  },
  {
   "cell_type": "code",
   "execution_count": 13,
   "id": "27104c17",
   "metadata": {},
   "outputs": [
    {
     "data": {
      "text/plain": [
       "torch.Size([5, 6])"
      ]
     },
     "execution_count": 13,
     "metadata": {},
     "output_type": "execute_result"
    }
   ],
   "source": [
    "output.shape"
   ]
  }
 ],
 "metadata": {
  "kernelspec": {
   "display_name": "nanogpt",
   "language": "python",
   "name": "python3"
  },
  "language_info": {
   "codemirror_mode": {
    "name": "ipython",
    "version": 3
   },
   "file_extension": ".py",
   "mimetype": "text/x-python",
   "name": "python",
   "nbconvert_exporter": "python",
   "pygments_lexer": "ipython3",
   "version": "3.12.9"
  }
 },
 "nbformat": 4,
 "nbformat_minor": 5
}
